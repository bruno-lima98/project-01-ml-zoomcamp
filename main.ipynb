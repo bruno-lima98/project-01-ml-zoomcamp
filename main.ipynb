{
 "cells": [
  {
   "cell_type": "markdown",
   "id": "ec7db6c2",
   "metadata": {},
   "source": [
    "## 1. Downloading Dataset"
   ]
  },
  {
   "cell_type": "code",
   "execution_count": null,
   "id": "897d169d",
   "metadata": {},
   "outputs": [
    {
     "name": "stdout",
     "output_type": "stream",
     "text": [
      "Dataset URL: https://www.kaggle.com/datasets/mlg-ulb/creditcardfraud\n",
      "License(s): DbCL-1.0\n",
      "creditcardfraud.zip: Skipping, found more recently modified local copy (use --force to force download)\n",
      "Archive:  ./data/creditcardfraud.zip\n",
      "  inflating: ./data/creditcard.csv   \n"
     ]
    }
   ],
   "source": [
    "!pip install kaggle --quiet\n",
    "!mkdir -p ~/.kaggle\n",
    "\n",
    "import os, json\n",
    "\n",
    "kaggle_json = {\n",
    "    \"username\": os.getenv(\"KAGGLE_USERNAME\"),\n",
    "    \"key\": os.getenv(\"KAGGLE_PASS\")\n",
    "}\n",
    "\n",
    "with open(os.path.expanduser(\"~/.kaggle/kaggle.json\"), \"w\") as f:\n",
    "    json.dump(kaggle_json, f)\n",
    "\n",
    "!chmod 600 ~/.kaggle/kaggle.json\n",
    "!kaggle datasets download -d mlg-ulb/creditcardfraud -p ./data\n",
    "!unzip -o ./data/creditcardfraud.zip -d ./data\n",
    "\n",
    "zip_path = \"./data/creditcardfraud.zip\"\n",
    "if os.path.exists(zip_path):\n",
    "    os.remove(zip_path)\n"
   ]
  },
  {
   "cell_type": "markdown",
   "id": "5a6a9e8f",
   "metadata": {},
   "source": [
    "## 2. Libraries and Configurations"
   ]
  },
  {
   "cell_type": "code",
   "execution_count": 19,
   "id": "a75489ec",
   "metadata": {},
   "outputs": [],
   "source": [
    "# General\n",
    "import pandas as pd\n",
    "import numpy as np\n",
    "import matplotlib.pyplot as plt\n",
    "import seaborn as sns\n",
    "from IPython.display import display\n",
    "\n",
    "# Machine Learning\n",
    "from sklearn.model_selection import train_test_split\n",
    "from sklearn.metrics import mutual_info_score\n",
    "from sklearn.feature_extraction import DictVectorizer\n",
    "\n",
    "# Configurations\n",
    "pd.set_option('display.max_columns',None) # exibir todas as colunas do meu df\n",
    "pd.set_option(\"display.max_seq_items\", None) # exibir todas as linhas no meu for"
   ]
  },
  {
   "cell_type": "markdown",
   "id": "4326a6f7",
   "metadata": {},
   "source": [
    "## 3. Understanding the Problem\n",
    "----\n",
    "This project aims to develop a **Machine Learning model** to classify credit card transactions as legitimate or fraudulent, using a publicly available dataset from Kaggle.\n",
    "\n",
    "The choice of a Logistic Regression model comes from the content learned in the course, where we saw that this type of model is very effective for solving classification problems with relatively simple steps.\n",
    "\n",
    "\n",
    "### **3.1. Motivation**\n",
    "\n",
    "----\n",
    "\n",
    "**1. Professional experience:**\n",
    "\n",
    "I currently work in the banking sector, where fraud is a recurring challenge. This professional background motivated me to choose credit card fraud detection as the topic for my first project.\n",
    "\n",
    "**2. Real-world problem:**\n",
    "\n",
    "Credit card fraud is a common problem in real life. Therefore, working on this project provides valuable insights and practical challenges to apply the concepts learned during the first part of the course.\n",
    "\n",
    "### **3.2. Objectives**\n",
    "\n",
    "----\n",
    "\n",
    "- Build a predictive model capable of classifying transactions as fraudulent or not.\n",
    "- Evaluate performance using concepts from the Evaluation chapter and select the most appropriate metrics.\n",
    "- Interpret the results and identify the main factors that increase the probability of fraudulent transactions."
   ]
  },
  {
   "cell_type": "markdown",
   "id": "0ae3eb10",
   "metadata": {},
   "source": [
    "## 4. Dataset Informations\n",
    "----\n",
    "The dataset used in this project is Credit Card Fraud Detection (https://www.kaggle.com/datasets/mlg-ulb/creditcardfraud/data), which contains credit card transactions carried out by European cardholders in September 2013.\n",
    "\n",
    "To protect customer privacy and sensitive information, most features have been anonymized and transformed using PCA, resulting in a dataset suitable for research with real-world data.\n",
    "\n",
    "### **4.1. Features Description:**\n",
    "\n",
    "----\n",
    "\n",
    "- **Time:** Number of seconds elapsed between this transaction and the first transaction in the dataset.\n",
    "- **V1 - V28:** Result of PCA transformation, used to anomyze original features realted to customers and transactions.\n",
    "- **Amount:** Transaction amount.\n",
    "- **Class:** Target variable – 1 for fraud, 0 for legitimate transactions.\n",
    "\n",
    "### **4.2. Dataset Characteristics:**\n",
    "\n",
    "----\n",
    "\n",
    "- The dataset contains 284.807 transactions, of which 492 are fraudulent (~0,17%).\n",
    "- The main challenge is the highly imbalanced nature of the dataset, which reflects a common real-world problem in fraud detection.\n",
    "- The anonymization through PCA limits the interpretability of the features, but this is acceptable for tackling a realistic problem."
   ]
  },
  {
   "cell_type": "markdown",
   "id": "b4b08faa",
   "metadata": {},
   "source": [
    "## 5. Exploratory Data Analysis (EDA)\n",
    "----"
   ]
  },
  {
   "cell_type": "code",
   "execution_count": 20,
   "id": "4fc2e2b3",
   "metadata": {},
   "outputs": [],
   "source": [
    "df = pd.read_csv('data/creditcard.csv')"
   ]
  },
  {
   "cell_type": "code",
   "execution_count": 23,
   "id": "0d6cb0ce",
   "metadata": {},
   "outputs": [
    {
     "data": {
      "text/plain": [
       "(284807, 31)"
      ]
     },
     "execution_count": 23,
     "metadata": {},
     "output_type": "execute_result"
    }
   ],
   "source": [
    "df.shape"
   ]
  },
  {
   "cell_type": "markdown",
   "id": "eaef0e72",
   "metadata": {},
   "source": [
    "### 3. Data Preparation"
   ]
  },
  {
   "cell_type": "code",
   "execution_count": 55,
   "id": "e81059b6",
   "metadata": {},
   "outputs": [],
   "source": [
    "# Dividindo em tipos de coluna:\n",
    "\n",
    "categorical = list(df.dtypes[df.dtypes == 'object'].index)\n",
    "numerical = [col for col in df.dtypes[df.dtypes != 'object'].index if col not in ['reached_on_time_y_n', 'id']]"
   ]
  },
  {
   "cell_type": "code",
   "execution_count": 30,
   "id": "a1733fac",
   "metadata": {},
   "outputs": [],
   "source": [
    "# Padronização das variáveis categóricas:\n",
    " \n",
    "for i in categorical:\n",
    "    df[i] = df[i].str.lower().str.strip().str.replace(\" \",\"_\").str.replace(\".\",\"_\")"
   ]
  },
  {
   "cell_type": "code",
   "execution_count": 31,
   "id": "4f6d0616",
   "metadata": {},
   "outputs": [
    {
     "data": {
      "text/plain": [
       "id                     0\n",
       "warehouse_block        0\n",
       "mode_of_shipment       0\n",
       "customer_care_calls    0\n",
       "customer_rating        0\n",
       "cost_of_the_product    0\n",
       "prior_purchases        0\n",
       "product_importance     0\n",
       "gender                 0\n",
       "discount_offered       0\n",
       "weight_in_gms          0\n",
       "reached_on_time_y_n    0\n",
       "dtype: int64"
      ]
     },
     "execution_count": 31,
     "metadata": {},
     "output_type": "execute_result"
    }
   ],
   "source": [
    "# Verificando valores nulos:\n",
    "\n",
    "df.isnull().sum()"
   ]
  },
  {
   "cell_type": "code",
   "execution_count": 32,
   "id": "1d47ef14",
   "metadata": {},
   "outputs": [
    {
     "data": {
      "text/html": [
       "<div>\n",
       "<style scoped>\n",
       "    .dataframe tbody tr th:only-of-type {\n",
       "        vertical-align: middle;\n",
       "    }\n",
       "\n",
       "    .dataframe tbody tr th {\n",
       "        vertical-align: top;\n",
       "    }\n",
       "\n",
       "    .dataframe thead th {\n",
       "        text-align: right;\n",
       "    }\n",
       "</style>\n",
       "<table border=\"1\" class=\"dataframe\">\n",
       "  <thead>\n",
       "    <tr style=\"text-align: right;\">\n",
       "      <th></th>\n",
       "      <th>id</th>\n",
       "      <th>warehouse_block</th>\n",
       "      <th>mode_of_shipment</th>\n",
       "      <th>customer_care_calls</th>\n",
       "      <th>customer_rating</th>\n",
       "      <th>cost_of_the_product</th>\n",
       "      <th>prior_purchases</th>\n",
       "      <th>product_importance</th>\n",
       "      <th>gender</th>\n",
       "      <th>discount_offered</th>\n",
       "      <th>weight_in_gms</th>\n",
       "      <th>reached_on_time_y_n</th>\n",
       "    </tr>\n",
       "  </thead>\n",
       "  <tbody>\n",
       "    <tr>\n",
       "      <th>0</th>\n",
       "      <td>1</td>\n",
       "      <td>d</td>\n",
       "      <td>flight</td>\n",
       "      <td>4</td>\n",
       "      <td>2</td>\n",
       "      <td>177</td>\n",
       "      <td>3</td>\n",
       "      <td>low</td>\n",
       "      <td>f</td>\n",
       "      <td>44</td>\n",
       "      <td>1233</td>\n",
       "      <td>1</td>\n",
       "    </tr>\n",
       "    <tr>\n",
       "      <th>1</th>\n",
       "      <td>2</td>\n",
       "      <td>f</td>\n",
       "      <td>flight</td>\n",
       "      <td>4</td>\n",
       "      <td>5</td>\n",
       "      <td>216</td>\n",
       "      <td>2</td>\n",
       "      <td>low</td>\n",
       "      <td>m</td>\n",
       "      <td>59</td>\n",
       "      <td>3088</td>\n",
       "      <td>1</td>\n",
       "    </tr>\n",
       "    <tr>\n",
       "      <th>2</th>\n",
       "      <td>3</td>\n",
       "      <td>a</td>\n",
       "      <td>flight</td>\n",
       "      <td>2</td>\n",
       "      <td>2</td>\n",
       "      <td>183</td>\n",
       "      <td>4</td>\n",
       "      <td>low</td>\n",
       "      <td>m</td>\n",
       "      <td>48</td>\n",
       "      <td>3374</td>\n",
       "      <td>1</td>\n",
       "    </tr>\n",
       "    <tr>\n",
       "      <th>3</th>\n",
       "      <td>4</td>\n",
       "      <td>b</td>\n",
       "      <td>flight</td>\n",
       "      <td>3</td>\n",
       "      <td>3</td>\n",
       "      <td>176</td>\n",
       "      <td>4</td>\n",
       "      <td>medium</td>\n",
       "      <td>m</td>\n",
       "      <td>10</td>\n",
       "      <td>1177</td>\n",
       "      <td>1</td>\n",
       "    </tr>\n",
       "    <tr>\n",
       "      <th>4</th>\n",
       "      <td>5</td>\n",
       "      <td>c</td>\n",
       "      <td>flight</td>\n",
       "      <td>2</td>\n",
       "      <td>2</td>\n",
       "      <td>184</td>\n",
       "      <td>3</td>\n",
       "      <td>medium</td>\n",
       "      <td>f</td>\n",
       "      <td>46</td>\n",
       "      <td>2484</td>\n",
       "      <td>1</td>\n",
       "    </tr>\n",
       "  </tbody>\n",
       "</table>\n",
       "</div>"
      ],
      "text/plain": [
       "   id warehouse_block mode_of_shipment  customer_care_calls  customer_rating  \\\n",
       "0   1               d           flight                    4                2   \n",
       "1   2               f           flight                    4                5   \n",
       "2   3               a           flight                    2                2   \n",
       "3   4               b           flight                    3                3   \n",
       "4   5               c           flight                    2                2   \n",
       "\n",
       "   cost_of_the_product  prior_purchases product_importance gender  \\\n",
       "0                  177                3                low      f   \n",
       "1                  216                2                low      m   \n",
       "2                  183                4                low      m   \n",
       "3                  176                4             medium      m   \n",
       "4                  184                3             medium      f   \n",
       "\n",
       "   discount_offered  weight_in_gms  reached_on_time_y_n  \n",
       "0                44           1233                    1  \n",
       "1                59           3088                    1  \n",
       "2                48           3374                    1  \n",
       "3                10           1177                    1  \n",
       "4                46           2484                    1  "
      ]
     },
     "execution_count": 32,
     "metadata": {},
     "output_type": "execute_result"
    }
   ],
   "source": [
    "df.head()"
   ]
  },
  {
   "cell_type": "markdown",
   "id": "e84530db",
   "metadata": {},
   "source": [
    "### 4. Setting up Validation Framework"
   ]
  },
  {
   "cell_type": "code",
   "execution_count": null,
   "id": "d9c457ad",
   "metadata": {},
   "outputs": [],
   "source": [
    "# Fazendo a divisão Train / Validation / Test >> 60 / 20 / 20\n",
    "rs = 42\n",
    "df_full_train, df_test = train_test_split(df, test_size=0.2, random_state=rs) # 80/20\n",
    "df_train, df_val = train_test_split(df_full_train, test_size=0.25, random_state=rs) # 25% de 80 >> 60/20/20"
   ]
  },
  {
   "cell_type": "code",
   "execution_count": 35,
   "id": "79c96228",
   "metadata": {},
   "outputs": [
    {
     "data": {
      "text/plain": [
       "(10999, 8799, 6599, 2200, 2200)"
      ]
     },
     "execution_count": 35,
     "metadata": {},
     "output_type": "execute_result"
    }
   ],
   "source": [
    "len(df), len(df_full_train), len(df_train), len(df_val), len(df_test)"
   ]
  },
  {
   "cell_type": "code",
   "execution_count": 37,
   "id": "cec9d215",
   "metadata": {},
   "outputs": [],
   "source": [
    "df_full_train = df_full_train.reset_index(drop=True)\n",
    "df_train = df_train.reset_index(drop=True)\n",
    "df_val = df_val.reset_index(drop=True)\n",
    "df_test = df_test.reset_index(drop=True)"
   ]
  },
  {
   "cell_type": "code",
   "execution_count": null,
   "id": "21964645",
   "metadata": {},
   "outputs": [],
   "source": [
    "# Configurando a váriavel target como y:\n",
    "\n",
    "y_full_train = df_full_train['reached_on_time_y_n']\n",
    "y_train = df_train['reached_on_time_y_n']\n",
    "y_val = df_val['reached_on_time_y_n']\n",
    "y_test = df_test['reached_on_time_y_n']"
   ]
  },
  {
   "cell_type": "code",
   "execution_count": 41,
   "id": "ff61111a",
   "metadata": {},
   "outputs": [],
   "source": [
    "# del df_full_train['reached_on_time_y_n']\n",
    "del df_train['reached_on_time_y_n']\n",
    "del df_val['reached_on_time_y_n']\n",
    "del df_test['reached_on_time_y_n']"
   ]
  },
  {
   "cell_type": "markdown",
   "id": "d2e89ec6",
   "metadata": {},
   "source": [
    "### 5. EDA: Exploratory Data Analysis"
   ]
  },
  {
   "cell_type": "code",
   "execution_count": null,
   "id": "261ebb8c",
   "metadata": {},
   "outputs": [
    {
     "data": {
      "text/plain": [
       "np.float64(0.598)"
      ]
     },
     "execution_count": 44,
     "metadata": {},
     "output_type": "execute_result"
    }
   ],
   "source": [
    "# Verificação da taxa de atraso geral:\n",
    "\n",
    "global_delay_rate = df_full_train['reached_on_time_y_n'].value_counts(normalize=True)[1]\n",
    "round(global_delay_rate,3)"
   ]
  },
  {
   "cell_type": "code",
   "execution_count": null,
   "id": "99707aae",
   "metadata": {},
   "outputs": [
    {
     "name": "stdout",
     "output_type": "stream",
     "text": [
      "warehouse_block    | Total de categorias: 5 | ['f' 'a' 'd' 'c' 'b']\n",
      "mode_of_shipment   | Total de categorias: 3 | ['ship' 'flight' 'road']\n",
      "product_importance | Total de categorias: 3 | ['low' 'medium' 'high']\n",
      "gender             | Total de categorias: 2 | ['f' 'm']\n"
     ]
    }
   ],
   "source": [
    "# Verificação das categorias possíveis:\n",
    "\n",
    "for i in categorical:\n",
    "    print(f'{i:<18} | Total de categorias: {df_full_train[i].nunique()} | {df_full_train[i].unique()}')"
   ]
  },
  {
   "cell_type": "code",
   "execution_count": null,
   "id": "8a5e67d0",
   "metadata": {},
   "outputs": [],
   "source": [
    "# Verificação da distribuição das variáveis numéricas:\n",
    "\n",
    "for i in numerical:\n",
    "    plt.figure(figsize=(5,3))\n",
    "    sns.histplot(df[i])\n",
    "    plt.title(i)\n",
    "    plt.xlabel(i)\n",
    "    plt.ylabel('Frequência')\n",
    "    plt.tight_layout()\n",
    "    plt.show()           "
   ]
  },
  {
   "cell_type": "markdown",
   "id": "d032e871",
   "metadata": {},
   "source": [
    "### 5. Featuring Engineering\n"
   ]
  },
  {
   "cell_type": "code",
   "execution_count": 78,
   "id": "79e7d104",
   "metadata": {},
   "outputs": [
    {
     "name": "stdout",
     "output_type": "stream",
     "text": [
      "warehouse_block\n",
      "-      a: -0.0302\n",
      "-      b:   0.014\n",
      "-      c:  0.0098\n",
      "-      d: -0.0108\n",
      "-      f:  0.0088\n",
      "mode_of_shipment\n",
      "- flight:  0.0099\n",
      "-   road: -0.0166\n",
      "-   ship:  0.0015\n",
      "product_importance\n",
      "-   high:  0.0942\n",
      "-    low: -0.0034\n",
      "- medium: -0.0149\n",
      "gender\n",
      "-      f:  0.0021\n",
      "-      m: -0.0021\n"
     ]
    }
   ],
   "source": [
    "for i in categorical:\n",
    "    diff = (df_full_train.groupby(i)['reached_on_time_y_n'].mean() / global_delay_rate - 1)\n",
    "    print(f'{i}')\n",
    "    for j in range(len(diff)):\n",
    "            print(f'- {diff.index[j]:>6}: {diff.values[j].round(4):>7}')"
   ]
  },
  {
   "cell_type": "code",
   "execution_count": 81,
   "id": "600ffd31",
   "metadata": {},
   "outputs": [
    {
     "name": "stdout",
     "output_type": "stream",
     "text": [
      "warehouse_block\n"
     ]
    },
    {
     "data": {
      "text/html": [
       "<div>\n",
       "<style scoped>\n",
       "    .dataframe tbody tr th:only-of-type {\n",
       "        vertical-align: middle;\n",
       "    }\n",
       "\n",
       "    .dataframe tbody tr th {\n",
       "        vertical-align: top;\n",
       "    }\n",
       "\n",
       "    .dataframe thead th {\n",
       "        text-align: right;\n",
       "    }\n",
       "</style>\n",
       "<table border=\"1\" class=\"dataframe\">\n",
       "  <thead>\n",
       "    <tr style=\"text-align: right;\">\n",
       "      <th></th>\n",
       "      <th>warehouse_block</th>\n",
       "      <th>count</th>\n",
       "      <th>mean (%)</th>\n",
       "      <th>diff_abs (%)</th>\n",
       "      <th>risk_delay(%)</th>\n",
       "    </tr>\n",
       "  </thead>\n",
       "  <tbody>\n",
       "    <tr>\n",
       "      <th>0</th>\n",
       "      <td>a</td>\n",
       "      <td>1465</td>\n",
       "      <td>57.95</td>\n",
       "      <td>-1.81</td>\n",
       "      <td>-3.02</td>\n",
       "    </tr>\n",
       "    <tr>\n",
       "      <th>1</th>\n",
       "      <td>b</td>\n",
       "      <td>1454</td>\n",
       "      <td>60.59</td>\n",
       "      <td>0.83</td>\n",
       "      <td>1.39</td>\n",
       "    </tr>\n",
       "    <tr>\n",
       "      <th>2</th>\n",
       "      <td>c</td>\n",
       "      <td>1470</td>\n",
       "      <td>60.34</td>\n",
       "      <td>0.58</td>\n",
       "      <td>0.98</td>\n",
       "    </tr>\n",
       "    <tr>\n",
       "      <th>3</th>\n",
       "      <td>d</td>\n",
       "      <td>1487</td>\n",
       "      <td>59.11</td>\n",
       "      <td>-0.65</td>\n",
       "      <td>-1.08</td>\n",
       "    </tr>\n",
       "    <tr>\n",
       "      <th>4</th>\n",
       "      <td>f</td>\n",
       "      <td>2923</td>\n",
       "      <td>60.28</td>\n",
       "      <td>0.52</td>\n",
       "      <td>0.88</td>\n",
       "    </tr>\n",
       "  </tbody>\n",
       "</table>\n",
       "</div>"
      ],
      "text/plain": [
       "  warehouse_block  count  mean (%)  diff_abs (%)  risk_delay(%)\n",
       "0               a   1465     57.95         -1.81          -3.02\n",
       "1               b   1454     60.59          0.83           1.39\n",
       "2               c   1470     60.34          0.58           0.98\n",
       "3               d   1487     59.11         -0.65          -1.08\n",
       "4               f   2923     60.28          0.52           0.88"
      ]
     },
     "metadata": {},
     "output_type": "display_data"
    },
    {
     "name": "stdout",
     "output_type": "stream",
     "text": [
      "\n",
      "mode_of_shipment\n"
     ]
    },
    {
     "data": {
      "text/html": [
       "<div>\n",
       "<style scoped>\n",
       "    .dataframe tbody tr th:only-of-type {\n",
       "        vertical-align: middle;\n",
       "    }\n",
       "\n",
       "    .dataframe tbody tr th {\n",
       "        vertical-align: top;\n",
       "    }\n",
       "\n",
       "    .dataframe thead th {\n",
       "        text-align: right;\n",
       "    }\n",
       "</style>\n",
       "<table border=\"1\" class=\"dataframe\">\n",
       "  <thead>\n",
       "    <tr style=\"text-align: right;\">\n",
       "      <th></th>\n",
       "      <th>mode_of_shipment</th>\n",
       "      <th>count</th>\n",
       "      <th>mean (%)</th>\n",
       "      <th>diff_abs (%)</th>\n",
       "      <th>risk_delay(%)</th>\n",
       "    </tr>\n",
       "  </thead>\n",
       "  <tbody>\n",
       "    <tr>\n",
       "      <th>0</th>\n",
       "      <td>flight</td>\n",
       "      <td>1425</td>\n",
       "      <td>60.35</td>\n",
       "      <td>0.59</td>\n",
       "      <td>0.99</td>\n",
       "    </tr>\n",
       "    <tr>\n",
       "      <th>1</th>\n",
       "      <td>road</td>\n",
       "      <td>1392</td>\n",
       "      <td>58.76</td>\n",
       "      <td>-1.00</td>\n",
       "      <td>-1.67</td>\n",
       "    </tr>\n",
       "    <tr>\n",
       "      <th>2</th>\n",
       "      <td>ship</td>\n",
       "      <td>5982</td>\n",
       "      <td>59.85</td>\n",
       "      <td>0.09</td>\n",
       "      <td>0.16</td>\n",
       "    </tr>\n",
       "  </tbody>\n",
       "</table>\n",
       "</div>"
      ],
      "text/plain": [
       "  mode_of_shipment  count  mean (%)  diff_abs (%)  risk_delay(%)\n",
       "0           flight   1425     60.35          0.59           0.99\n",
       "1             road   1392     58.76         -1.00          -1.67\n",
       "2             ship   5982     59.85          0.09           0.16"
      ]
     },
     "metadata": {},
     "output_type": "display_data"
    },
    {
     "name": "stdout",
     "output_type": "stream",
     "text": [
      "\n",
      "product_importance\n"
     ]
    },
    {
     "data": {
      "text/html": [
       "<div>\n",
       "<style scoped>\n",
       "    .dataframe tbody tr th:only-of-type {\n",
       "        vertical-align: middle;\n",
       "    }\n",
       "\n",
       "    .dataframe tbody tr th {\n",
       "        vertical-align: top;\n",
       "    }\n",
       "\n",
       "    .dataframe thead th {\n",
       "        text-align: right;\n",
       "    }\n",
       "</style>\n",
       "<table border=\"1\" class=\"dataframe\">\n",
       "  <thead>\n",
       "    <tr style=\"text-align: right;\">\n",
       "      <th></th>\n",
       "      <th>product_importance</th>\n",
       "      <th>count</th>\n",
       "      <th>mean (%)</th>\n",
       "      <th>diff_abs (%)</th>\n",
       "      <th>risk_delay(%)</th>\n",
       "    </tr>\n",
       "  </thead>\n",
       "  <tbody>\n",
       "    <tr>\n",
       "      <th>0</th>\n",
       "      <td>high</td>\n",
       "      <td>754</td>\n",
       "      <td>65.38</td>\n",
       "      <td>5.62</td>\n",
       "      <td>9.41</td>\n",
       "    </tr>\n",
       "    <tr>\n",
       "      <th>1</th>\n",
       "      <td>low</td>\n",
       "      <td>4250</td>\n",
       "      <td>59.55</td>\n",
       "      <td>-0.21</td>\n",
       "      <td>-0.35</td>\n",
       "    </tr>\n",
       "    <tr>\n",
       "      <th>2</th>\n",
       "      <td>medium</td>\n",
       "      <td>3795</td>\n",
       "      <td>58.87</td>\n",
       "      <td>-0.89</td>\n",
       "      <td>-1.48</td>\n",
       "    </tr>\n",
       "  </tbody>\n",
       "</table>\n",
       "</div>"
      ],
      "text/plain": [
       "  product_importance  count  mean (%)  diff_abs (%)  risk_delay(%)\n",
       "0               high    754     65.38          5.62           9.41\n",
       "1                low   4250     59.55         -0.21          -0.35\n",
       "2             medium   3795     58.87         -0.89          -1.48"
      ]
     },
     "metadata": {},
     "output_type": "display_data"
    },
    {
     "name": "stdout",
     "output_type": "stream",
     "text": [
      "\n",
      "gender\n"
     ]
    },
    {
     "data": {
      "text/html": [
       "<div>\n",
       "<style scoped>\n",
       "    .dataframe tbody tr th:only-of-type {\n",
       "        vertical-align: middle;\n",
       "    }\n",
       "\n",
       "    .dataframe tbody tr th {\n",
       "        vertical-align: top;\n",
       "    }\n",
       "\n",
       "    .dataframe thead th {\n",
       "        text-align: right;\n",
       "    }\n",
       "</style>\n",
       "<table border=\"1\" class=\"dataframe\">\n",
       "  <thead>\n",
       "    <tr style=\"text-align: right;\">\n",
       "      <th></th>\n",
       "      <th>gender</th>\n",
       "      <th>count</th>\n",
       "      <th>mean (%)</th>\n",
       "      <th>diff_abs (%)</th>\n",
       "      <th>risk_delay(%)</th>\n",
       "    </tr>\n",
       "  </thead>\n",
       "  <tbody>\n",
       "    <tr>\n",
       "      <th>0</th>\n",
       "      <td>f</td>\n",
       "      <td>4392</td>\n",
       "      <td>59.88</td>\n",
       "      <td>0.12</td>\n",
       "      <td>0.21</td>\n",
       "    </tr>\n",
       "    <tr>\n",
       "      <th>1</th>\n",
       "      <td>m</td>\n",
       "      <td>4407</td>\n",
       "      <td>59.63</td>\n",
       "      <td>-0.13</td>\n",
       "      <td>-0.21</td>\n",
       "    </tr>\n",
       "  </tbody>\n",
       "</table>\n",
       "</div>"
      ],
      "text/plain": [
       "  gender  count  mean (%)  diff_abs (%)  risk_delay(%)\n",
       "0      f   4392     59.88          0.12           0.21\n",
       "1      m   4407     59.63         -0.13          -0.21"
      ]
     },
     "metadata": {},
     "output_type": "display_data"
    },
    {
     "name": "stdout",
     "output_type": "stream",
     "text": [
      "\n"
     ]
    }
   ],
   "source": [
    "for i in categorical:\n",
    "    print(i)\n",
    "    df_group_disp = df_full_train.groupby(i)['reached_on_time_y_n'].agg(['count','mean'])\n",
    "    df_group_disp['mean'] = (df_group_disp['mean']*100).round(2)\n",
    "    df_group_disp['diff_abs (%)'] = ((df_group_disp['mean'] - (global_delay_rate*100))).round(2)\n",
    "    df_group_disp['risk_delay(%)'] = ((df_group_disp['mean'] / (global_delay_rate*100) - 1)*100).round(2)\n",
    "\n",
    "    df_group_disp = df_group_disp.rename(columns={'mean': 'mean (%)'})\n",
    "    \n",
    "    df_group_disp = df_group_disp.reset_index()\n",
    "\n",
    "    display(df_group_disp)\n",
    "    print()\n"
   ]
  },
  {
   "cell_type": "markdown",
   "id": "81191ccf",
   "metadata": {},
   "source": [
    "### 6. Features Importance"
   ]
  },
  {
   "cell_type": "code",
   "execution_count": null,
   "id": "4ed4e1de",
   "metadata": {},
   "outputs": [
    {
     "data": {
      "text/html": [
       "<div>\n",
       "<style scoped>\n",
       "    .dataframe tbody tr th:only-of-type {\n",
       "        vertical-align: middle;\n",
       "    }\n",
       "\n",
       "    .dataframe tbody tr th {\n",
       "        vertical-align: top;\n",
       "    }\n",
       "\n",
       "    .dataframe thead th {\n",
       "        text-align: right;\n",
       "    }\n",
       "</style>\n",
       "<table border=\"1\" class=\"dataframe\">\n",
       "  <thead>\n",
       "    <tr style=\"text-align: right;\">\n",
       "      <th></th>\n",
       "      <th>feature</th>\n",
       "      <th>mutual_info (%)</th>\n",
       "    </tr>\n",
       "  </thead>\n",
       "  <tbody>\n",
       "    <tr>\n",
       "      <th>0</th>\n",
       "      <td>product_importance</td>\n",
       "      <td>0.06</td>\n",
       "    </tr>\n",
       "    <tr>\n",
       "      <th>1</th>\n",
       "      <td>warehouse_block</td>\n",
       "      <td>0.02</td>\n",
       "    </tr>\n",
       "    <tr>\n",
       "      <th>2</th>\n",
       "      <td>mode_of_shipment</td>\n",
       "      <td>0.00</td>\n",
       "    </tr>\n",
       "    <tr>\n",
       "      <th>3</th>\n",
       "      <td>gender</td>\n",
       "      <td>0.00</td>\n",
       "    </tr>\n",
       "  </tbody>\n",
       "</table>\n",
       "</div>"
      ],
      "text/plain": [
       "              feature  mutual_info (%)\n",
       "0  product_importance             0.06\n",
       "1     warehouse_block             0.02\n",
       "2    mode_of_shipment             0.00\n",
       "3              gender             0.00"
      ]
     },
     "execution_count": 85,
     "metadata": {},
     "output_type": "execute_result"
    }
   ],
   "source": [
    "# Verificando a importância das Features categóricas:\n",
    "\n",
    "mutual = {}\n",
    "for i in categorical:\n",
    "    a = round(mutual_info_score(df_full_train['reached_on_time_y_n'],df_full_train[i])*100,2)\n",
    "    mutual[i] = a\n",
    "df_mutual = pd.DataFrame(list(mutual.items()), columns=['feature', 'mutual_info (%)'])\n",
    "df_mutual = df_mutual.sort_values(by=\"mutual_info (%)\", ascending=False).reset_index(drop=True)\n",
    "df_mutual"
   ]
  },
  {
   "cell_type": "code",
   "execution_count": 94,
   "id": "432dcba4",
   "metadata": {},
   "outputs": [
    {
     "data": {
      "text/plain": [
       "customer_care_calls   -0.072117\n",
       "customer_rating        0.011056\n",
       "cost_of_the_product   -0.078052\n",
       "prior_purchases       -0.060074\n",
       "discount_offered       0.396499\n",
       "weight_in_gms         -0.264249\n",
       "dtype: float64"
      ]
     },
     "metadata": {},
     "output_type": "display_data"
    },
    {
     "data": {
      "image/png": "[encoded data removed]",
      "text/plain": [
       "<Figure size 600x400 with 2 Axes>"
      ]
     },
     "metadata": {},
     "output_type": "display_data"
    }
   ],
   "source": [
    "# Verificando a correlação entre as Features numéricas:\n",
    "\n",
    "display(df_full_train[numerical].corrwith(df_full_train['reached_on_time_y_n']))\n",
    "\n",
    "plt.figure(figsize=(6, 4))\n",
    "sns.heatmap(df_full_train[numerical].corr(), annot=True, cmap='coolwarm', fmt=\".2f\")\n",
    "plt.title('Matriz de Correlação')\n",
    "plt.show()"
   ]
  },
  {
   "cell_type": "markdown",
   "id": "ba3bc2ff",
   "metadata": {},
   "source": [
    "### 7. One-Hot Encoding"
   ]
  },
  {
   "cell_type": "code",
   "execution_count": 96,
   "id": "68cb1c3c",
   "metadata": {},
   "outputs": [],
   "source": [
    "# Utilizando o DictVetorizer para realizar o One-Hot das minhas variáveis:\n",
    "\n",
    "train_dicts = df_train[categorical + numerical].to_dict(orient='records')\n",
    "val_dicts = df_val[categorical + numerical].to_dict(orient='records')\n",
    "dv = DictVectorizer(sparse=False)"
   ]
  },
  {
   "cell_type": "code",
   "execution_count": null,
   "id": "2af32eca",
   "metadata": {},
   "outputs": [
    {
     "data": {
      "text/plain": [
       "['cost_of_the_product',\n",
       " 'customer_care_calls',\n",
       " 'customer_rating',\n",
       " 'discount_offered',\n",
       " 'gender=f',\n",
       " 'gender=m',\n",
       " 'mode_of_shipment=flight',\n",
       " 'mode_of_shipment=road',\n",
       " 'mode_of_shipment=ship',\n",
       " 'prior_purchases',\n",
       " 'product_importance=high',\n",
       " 'product_importance=low',\n",
       " 'product_importance=medium',\n",
       " 'warehouse_block=a',\n",
       " 'warehouse_block=b',\n",
       " 'warehouse_block=c',\n",
       " 'warehouse_block=d',\n",
       " 'warehouse_block=f',\n",
       " 'weight_in_gms']"
      ]
     },
     "execution_count": 97,
     "metadata": {},
     "output_type": "execute_result"
    }
   ],
   "source": [
    "# Verificação do Encoding:\n",
    "\n",
    "dv.fit(train_dicts)\n",
    "list(dv.get_feature_names_out())\n",
    "\n",
    "# 4 categóricas - OK\n",
    "# 6 numéricas - OK"
   ]
  },
  {
   "cell_type": "code",
   "execution_count": null,
   "id": "143f8ca0",
   "metadata": {},
   "outputs": [],
   "source": [
    "# Aplicando o One-Hot aos meus DFs:\n",
    "\n",
    "X_train = dv.fit_transform(train_dicts)\n",
    "X_val = dv.transform(val_dicts)"
   ]
  },
  {
   "cell_type": "code",
   "execution_count": 100,
   "id": "91d79ab5",
   "metadata": {},
   "outputs": [
    {
     "data": {
      "text/plain": [
       "((6599, 19), (2200, 19))"
      ]
     },
     "execution_count": 100,
     "metadata": {},
     "output_type": "execute_result"
    }
   ],
   "source": [
    "# Verificando as colunas:\n",
    "\n",
    "X_train.shape, X_val.shape"
   ]
  }
 ],
 "metadata": {
  "kernelspec": {
   "display_name": "Python 3",
   "language": "python",
   "name": "python3"
  },
  "language_info": {
   "codemirror_mode": {
    "name": "ipython",
    "version": 3
   },
   "file_extension": ".py",
   "mimetype": "text/x-python",
   "name": "python",
   "nbconvert_exporter": "python",
   "pygments_lexer": "ipython3",
   "version": "3.12.11"
  }
 },
 "nbformat": 4,
 "nbformat_minor": 5
}
